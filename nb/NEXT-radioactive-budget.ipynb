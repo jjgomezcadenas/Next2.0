{
 "cells": [
  {
   "cell_type": "markdown",
   "metadata": {},
   "source": [
    "## NEXT radioactive budget"
   ]
  },
  {
   "cell_type": "code",
   "execution_count": 1,
   "metadata": {},
   "outputs": [
    {
     "name": "stdout",
     "output_type": "stream",
     "text": [
      "2017-10-12 01:30:46\n"
     ]
    }
   ],
   "source": [
    "import os\n",
    "import datetime\n",
    "print(datetime.datetime.now().strftime('%Y-%m-%d %H:%M:%S'))\n",
    "\n",
    "import time\n",
    "import glob\n",
    "import tables as tb\n",
    "import numpy as np\n",
    "import pandas as pd\n",
    "import matplotlib.pyplot as plt\n",
    "from functools import reduce\n",
    "%matplotlib inline\n",
    "%load_ext autoreload\n",
    "%autoreload 2\n",
    "\n",
    "plt.rcParams[\"figure.figsize\"] = 10, 8\n",
    "plt.rcParams[\"font.size\"     ] = 14"
   ]
  },
  {
   "cell_type": "code",
   "execution_count": 2,
   "metadata": {
    "collapsed": true
   },
   "outputs": [],
   "source": [
    "from   invisible_cities.core.system_of_units_c import units"
   ]
  },
  {
   "cell_type": "code",
   "execution_count": 3,
   "metadata": {
    "collapsed": true
   },
   "outputs": [],
   "source": [
    "def gg_to_mubq(gg, mat='U238'):\n",
    "    if mat == 'U238':\n",
    "        return 1e+6*1e+9*gg/81\n",
    "    elif mat == 'Th232':\n",
    "        return 1e+6*1e+9*gg/246"
   ]
  },
  {
   "cell_type": "markdown",
   "metadata": {},
   "source": [
    "#### Electroformed copper"
   ]
  },
  {
   "cell_type": "code",
   "execution_count": 113,
   "metadata": {},
   "outputs": [
    {
     "data": {
      "text/plain": [
       "0.044715447154471545"
      ]
     },
     "execution_count": 113,
     "metadata": {},
     "output_type": "execute_result"
    }
   ],
   "source": [
    "gg_to_mubq(0.011e-12, mat='Th232')"
   ]
  },
  {
   "cell_type": "code",
   "execution_count": 120,
   "metadata": {},
   "outputs": [
    {
     "data": {
      "text/plain": [
       "1.3414634146341464"
      ]
     },
     "execution_count": 120,
     "metadata": {},
     "output_type": "execute_result"
    }
   ],
   "source": [
    "gg_to_mubq(0.33e-12, mat='Th232')"
   ]
  },
  {
   "cell_type": "markdown",
   "metadata": {
    "collapsed": true
   },
   "source": [
    "#### Electroformed machined"
   ]
  },
  {
   "cell_type": "code",
   "execution_count": 114,
   "metadata": {},
   "outputs": [
    {
     "data": {
      "text/plain": [
       "0.20987654320987653"
      ]
     },
     "execution_count": 114,
     "metadata": {},
     "output_type": "execute_result"
    }
   ],
   "source": [
    "gg_to_mubq(0.017e-12, mat='U238')"
   ]
  },
  {
   "cell_type": "code",
   "execution_count": 115,
   "metadata": {},
   "outputs": [
    {
     "data": {
      "text/plain": [
       "1.5185185185185186"
      ]
     },
     "execution_count": 115,
     "metadata": {},
     "output_type": "execute_result"
    }
   ],
   "source": [
    "gg_to_mubq(0.123e-12, mat='U238')"
   ]
  },
  {
   "cell_type": "markdown",
   "metadata": {},
   "source": [
    "#### Commercial copper"
   ]
  },
  {
   "cell_type": "code",
   "execution_count": 119,
   "metadata": {},
   "outputs": [
    {
     "data": {
      "text/plain": [
       "2.5925925925925926"
      ]
     },
     "execution_count": 119,
     "metadata": {},
     "output_type": "execute_result"
    }
   ],
   "source": [
    "gg_to_mubq(0.21e-12, mat='U238')"
   ]
  },
  {
   "cell_type": "code",
   "execution_count": 194,
   "metadata": {
    "collapsed": true
   },
   "outputs": [],
   "source": [
    "cases = ['all', 'limits', 'measured', 'estimated', 'improved', 'nausicaa']\n",
    "Qbb = 2458"
   ]
  },
  {
   "cell_type": "code",
   "execution_count": 231,
   "metadata": {},
   "outputs": [],
   "source": [
    "BI_NEXT100 = {'PV': (1.5, 0, 1.5/2, 1.5/2, 1.5/3),  # format is (activity, measured(1)-or-limit(0), estimated, next+, nausicaa)\n",
    "      'PMTs': (5.25, 1, 5.25, 4.5/3, 0.5),\n",
    "      'cans': (0.5, 0, 0.5/4, 0.5, 0.5),\n",
    "      'windows' : (1.25, 0, 0, 0, 0),\n",
    "      'KDbs' : (4.5, 1, 4.5/2, 4.5/2, 0.5),\n",
    "      'SiPMs': (0.5, 0, 0, 0, 0),\n",
    "      'FC' : (4.25, 0, 4.25/2, 4.25/2, 4.25/3),\n",
    "      'srings' : (2.5, 0, 2.5/4, 2.5/4, 2.5/4),\n",
    "      'erings' : (2.5, 0, 2.5/4, 2.5/4, 2.5/4),      \n",
    "      'anode' : (1.25, 1, 1.25, 1.25, 0.25),\n",
    "      'ICS' : (7, 0, 7/4, 7/4, 7/5),\n",
    "      'OS' : (1.5, 1, 1.5, 1.5, 0)}\n",
    "\n",
    "TL_NEXT100 = {'PV': (1.5, 0, 1.5/2, 1.5/2, 1.5/3),  # format is (activity, measured(1)-or-limit(0), estimated)\n",
    "      'PMTs': (4.0, 1, 3.5, 4/3, 0.5),\n",
    "      'cans': (0.25, 0, 0.25, 0.25, 0.25),\n",
    "      'windows' : (0.25, 0, 0.25,  0.25, 0.25),\n",
    "      'KDbs' : (0.75, 1, 0.75/2, 0.75/2, 0.5 ),\n",
    "      'SiPMs': (0.5, 0, 0, 0, 0),\n",
    "      'FC' : (0.25, 0, 0.25, 0.25, 0.25),\n",
    "      'srings' : (0.25, 0, 0.25, 0.25, 0.25),\n",
    "      'erings' : (0.5, 0, 0.5, 0.5, 0.5),      \n",
    "      'anode' : (0.25, 1, 0.25, 0.25, 0.25),\n",
    "      'ICS' : (2, 0, 2, 2, 2),\n",
    "      'OS' : (0.25, 1, 0.25, 0.25, 0)}"
   ]
  },
  {
   "cell_type": "code",
   "execution_count": 97,
   "metadata": {
    "collapsed": true
   },
   "outputs": [],
   "source": [
    "explode = {'PV': 0,\n",
    "      'PMTs': 0.1,\n",
    "      'cans': 0.1,\n",
    "      'windows' : 0.1,\n",
    "      'KDbs' : 0,\n",
    "      'SiPMs': 0,\n",
    "      'FC' : 0,\n",
    "      'rings' : 0,     \n",
    "      'anode' : 0,\n",
    "      'ICS' : 0,\n",
    "      'OS' : 0}"
   ]
  },
  {
   "cell_type": "code",
   "execution_count": 161,
   "metadata": {
    "collapsed": true
   },
   "outputs": [],
   "source": [
    "def unpack_rdict(rdict):\n",
    "    v = {values for values in rdict.values()}\n",
    "    values, measured, estimated, improved, nausicaa = zip(*v)\n",
    "    return np.array(values), np.array(measured), np.array(estimated), np.array(improved), np.array(nausicaa)"
   ]
  },
  {
   "cell_type": "code",
   "execution_count": null,
   "metadata": {
    "collapsed": true
   },
   "outputs": [],
   "source": []
  },
  {
   "cell_type": "code",
   "execution_count": 163,
   "metadata": {
    "collapsed": true
   },
   "outputs": [],
   "source": [
    "def rbudget(rdict, case='all'):\n",
    "    v = {values for values in rdict.values()}\n",
    "    v, m, e, i, n = unpack_rdict(rdict)\n",
    "    if case =='all':\n",
    "        return sum(v)\n",
    "    elif case == 'limits':\n",
    "        return sum(v[m==0])\n",
    "    elif case == 'measured':\n",
    "        return sum(v[m==1])\n",
    "    elif case == 'estimated':\n",
    "        return sum(e)\n",
    "    elif case == 'improved':\n",
    "        return sum(i)\n",
    "    elif case == 'nausicaa':\n",
    "        return sum(n)\n",
    "\n",
    "    else:\n",
    "        print('case not known, known cases are: all, limits, measured')\n",
    "        "
   ]
  },
  {
   "cell_type": "code",
   "execution_count": 189,
   "metadata": {
    "collapsed": true
   },
   "outputs": [],
   "source": [
    "def total_activity(cases):\n",
    "    sep = '\\t\\t'\n",
    "    for i, case in enumerate(cases):\n",
    "        if i > 1 : sep = '\\t'\n",
    "        lab = 'case = {} :'+sep+'budget = {}'\n",
    "        print(lab.format(case, rbudget(BI_NEXT100, case) + rbudget(TL_NEXT100, case)))"
   ]
  },
  {
   "cell_type": "code",
   "execution_count": 184,
   "metadata": {},
   "outputs": [],
   "source": [
    "def activity(rdict, cases):\n",
    "    sep = '\\t\\t'\n",
    "    for i, case in enumerate(cases):\n",
    "        if i > 1 : sep = '\\t'\n",
    "        lab = 'case = {} :'+sep+'budget = {}'\n",
    "        print(lab.format(case, rbudget(rdict, case)))"
   ]
  },
  {
   "cell_type": "code",
   "execution_count": 213,
   "metadata": {},
   "outputs": [],
   "source": [
    "def background_roi(FWHM='.75e-2', M=100):\n",
    "    print('mass = {} kg'.format(M))\n",
    "    sep = '\\t\\t'\n",
    "    for i, case in enumerate(cases):\n",
    "        if i > 1 : sep = '\\t'\n",
    "        lab = 'case = {}:' + sep + 'b = {} counts'\n",
    "        b = (rbudget(BI_NEXT100, case) + rbudget(TL_NEXT100, case) ) * 0.7e-2 * Qbb * 1e-5 * M\n",
    "        print(lab.format(case,b))"
   ]
  },
  {
   "cell_type": "code",
   "execution_count": 220,
   "metadata": {},
   "outputs": [
    {
     "name": "stdout",
     "output_type": "stream",
     "text": [
      "case = all :\t\tbudget = 30.0\n",
      "case = limits :\t\tbudget = 17.5\n",
      "case = measured :\tbudget = 12.5\n",
      "case = estimated :\tbudget = 17.875\n",
      "case = improved :\tbudget = 11.25\n",
      "case = nausicaa :\tbudget = 5.691666666666666\n"
     ]
    }
   ],
   "source": [
    "activity(BI_NEXT100, cases)"
   ]
  },
  {
   "cell_type": "code",
   "execution_count": 221,
   "metadata": {},
   "outputs": [
    {
     "name": "stdout",
     "output_type": "stream",
     "text": [
      "case = all :\t\tbudget = 10.0\n",
      "case = limits :\t\tbudget = 4.75\n",
      "case = measured :\tbudget = 5.25\n",
      "case = estimated :\tbudget = 8.25\n",
      "case = improved :\tbudget = 4.875\n",
      "case = nausicaa :\tbudget = 4.5\n"
     ]
    }
   ],
   "source": [
    "activity(TL_NEXT100, cases)"
   ]
  },
  {
   "cell_type": "code",
   "execution_count": 232,
   "metadata": {},
   "outputs": [
    {
     "name": "stdout",
     "output_type": "stream",
     "text": [
      "case = all :\t\tbudget = 40.0\n",
      "case = limits :\t\tbudget = 22.25\n",
      "case = measured :\tbudget = 17.75\n",
      "case = estimated :\tbudget = 23.5\n",
      "case = improved :\tbudget = 17.958333333333332\n",
      "case = nausicaa :\tbudget = 10.191666666666666\n"
     ]
    }
   ],
   "source": [
    "total_activity(cases)"
   ]
  },
  {
   "cell_type": "code",
   "execution_count": 233,
   "metadata": {},
   "outputs": [
    {
     "name": "stdout",
     "output_type": "stream",
     "text": [
      "mass = 100 kg\n",
      "case = all:\t\tb = 0.6882400000000001 counts\n",
      "case = limits:\t\tb = 0.38283350000000005 counts\n",
      "case = measured:\tb = 0.3054065 counts\n",
      "case = estimated:\tb = 0.40434100000000006 counts\n",
      "case = improved:\tb = 0.30899108333333336 counts\n",
      "case = nausicaa:\tb = 0.17535781666666667 counts\n"
     ]
    }
   ],
   "source": [
    "background_roi(FWHM='.75e-2', M=100)"
   ]
  },
  {
   "cell_type": "code",
   "execution_count": null,
   "metadata": {
    "collapsed": true
   },
   "outputs": [],
   "source": []
  },
  {
   "cell_type": "code",
   "execution_count": null,
   "metadata": {
    "collapsed": true
   },
   "outputs": [],
   "source": []
  },
  {
   "cell_type": "code",
   "execution_count": 200,
   "metadata": {},
   "outputs": [
    {
     "ename": "TypeError",
     "evalue": "'numpy.float64' object cannot be interpreted as an integer",
     "output_type": "error",
     "traceback": [
      "\u001b[0;31m---------------------------------------------------------------------------\u001b[0m",
      "\u001b[0;31mTypeError\u001b[0m                                 Traceback (most recent call last)",
      "\u001b[0;32m<ipython-input-200-df28dcad422b>\u001b[0m in \u001b[0;36m<module>\u001b[0;34m()\u001b[0m\n\u001b[0;32m----> 1\u001b[0;31m \u001b[0mbackground_roi\u001b[0m\u001b[0;34m(\u001b[0m\u001b[0mFWHM\u001b[0m\u001b[0;34m=\u001b[0m\u001b[0;34m'.75e-2'\u001b[0m\u001b[0;34m)\u001b[0m\u001b[0;34m\u001b[0m\u001b[0m\n\u001b[0m",
      "\u001b[0;32m<ipython-input-199-70a74e5255da>\u001b[0m in \u001b[0;36mbackground_roi\u001b[0;34m(FWHM)\u001b[0m\n\u001b[1;32m      4\u001b[0m         \u001b[0;32mif\u001b[0m \u001b[0mi\u001b[0m \u001b[0;34m>\u001b[0m \u001b[0;36m1\u001b[0m \u001b[0;34m:\u001b[0m \u001b[0msep\u001b[0m \u001b[0;34m=\u001b[0m \u001b[0;34m'\\t'\u001b[0m\u001b[0;34m\u001b[0m\u001b[0m\n\u001b[1;32m      5\u001b[0m         \u001b[0mlab\u001b[0m \u001b[0;34m=\u001b[0m \u001b[0;34m'case = {} :'\u001b[0m\u001b[0;34m+\u001b[0m\u001b[0msep\u001b[0m\u001b[0;34m+\u001b[0m\u001b[0;34m'bkgnd = {}'\u001b[0m\u001b[0;34m\u001b[0m\u001b[0m\n\u001b[0;32m----> 6\u001b[0;31m         \u001b[0mb\u001b[0m \u001b[0;34m=\u001b[0m \u001b[0mrbudget\u001b[0m\u001b[0;34m(\u001b[0m\u001b[0mBI_NEXT100\u001b[0m\u001b[0;34m,\u001b[0m \u001b[0mcase\u001b[0m\u001b[0;34m)\u001b[0m \u001b[0;34m+\u001b[0m \u001b[0mrbudget\u001b[0m\u001b[0;34m(\u001b[0m\u001b[0mTL_NEXT100\u001b[0m\u001b[0;34m,\u001b[0m \u001b[0mcase\u001b[0m\u001b[0;34m)\u001b[0m \u001b[0;34m*\u001b[0m \u001b[0mFWHM\u001b[0m \u001b[0;34m*\u001b[0m \u001b[0mQbb\u001b[0m\u001b[0;34m\u001b[0m\u001b[0m\n\u001b[0m\u001b[1;32m      7\u001b[0m         \u001b[0mprint\u001b[0m\u001b[0;34m(\u001b[0m\u001b[0mlab\u001b[0m\u001b[0;34m.\u001b[0m\u001b[0mformat\u001b[0m\u001b[0;34m(\u001b[0m\u001b[0mcase\u001b[0m\u001b[0;34m,\u001b[0m \u001b[0mrbudget\u001b[0m\u001b[0;34m(\u001b[0m\u001b[0mBI_NEXT100\u001b[0m\u001b[0;34m,\u001b[0m \u001b[0mcase\u001b[0m\u001b[0;34m)\u001b[0m \u001b[0;34m+\u001b[0m \u001b[0mrbudget\u001b[0m\u001b[0;34m(\u001b[0m\u001b[0mTL_NEXT100\u001b[0m\u001b[0;34m,\u001b[0m \u001b[0mcase\u001b[0m\u001b[0;34m)\u001b[0m\u001b[0;34m)\u001b[0m\u001b[0;34m)\u001b[0m\u001b[0;34m\u001b[0m\u001b[0m\n\u001b[1;32m      8\u001b[0m \u001b[0;34m\u001b[0m\u001b[0m\n",
      "\u001b[0;31mTypeError\u001b[0m: 'numpy.float64' object cannot be interpreted as an integer"
     ]
    }
   ],
   "source": [
    "background_roi(FWHM='.75e-2')"
   ]
  },
  {
   "cell_type": "code",
   "execution_count": null,
   "metadata": {
    "collapsed": true
   },
   "outputs": [],
   "source": []
  },
  {
   "cell_type": "code",
   "execution_count": 146,
   "metadata": {},
   "outputs": [
    {
     "data": {
      "text/plain": [
       "40.0"
      ]
     },
     "execution_count": 146,
     "metadata": {},
     "output_type": "execute_result"
    }
   ],
   "source": [
    "activity(BI_NEXT100, TL_NEXT100, case='all')"
   ]
  },
  {
   "cell_type": "code",
   "execution_count": 147,
   "metadata": {},
   "outputs": [
    {
     "data": {
      "text/plain": [
       "17.5"
      ]
     },
     "execution_count": 147,
     "metadata": {},
     "output_type": "execute_result"
    }
   ],
   "source": [
    "activity(BI_NEXT100, TL_NEXT100, case='measured')"
   ]
  },
  {
   "cell_type": "code",
   "execution_count": 148,
   "metadata": {},
   "outputs": [
    {
     "data": {
      "text/plain": [
       "26.375"
      ]
     },
     "execution_count": 148,
     "metadata": {},
     "output_type": "execute_result"
    }
   ],
   "source": [
    "activity(BI_NEXT100, TL_NEXT100, case='estimated')"
   ]
  },
  {
   "cell_type": "code",
   "execution_count": null,
   "metadata": {
    "collapsed": true
   },
   "outputs": [],
   "source": []
  },
  {
   "cell_type": "code",
   "execution_count": 133,
   "metadata": {},
   "outputs": [
    {
     "data": {
      "text/plain": [
       "11.5"
      ]
     },
     "execution_count": 133,
     "metadata": {},
     "output_type": "execute_result"
    }
   ],
   "source": [
    "rbudget(BI_NEXT100, case='measured')"
   ]
  },
  {
   "cell_type": "code",
   "execution_count": 137,
   "metadata": {},
   "outputs": [
    {
     "data": {
      "text/plain": [
       "17.5"
      ]
     },
     "execution_count": 137,
     "metadata": {},
     "output_type": "execute_result"
    }
   ],
   "source": [
    "rbudget(BI_NEXT100, case='limits')"
   ]
  },
  {
   "cell_type": "code",
   "execution_count": 138,
   "metadata": {},
   "outputs": [
    {
     "data": {
      "text/plain": [
       "18.125"
      ]
     },
     "execution_count": 138,
     "metadata": {},
     "output_type": "execute_result"
    }
   ],
   "source": [
    "rbudget(BI_NEXT100, case='estimated')"
   ]
  },
  {
   "cell_type": "code",
   "execution_count": null,
   "metadata": {
    "collapsed": true
   },
   "outputs": [],
   "source": []
  },
  {
   "cell_type": "code",
   "execution_count": 95,
   "metadata": {
    "collapsed": true
   },
   "outputs": [],
   "source": [
    "def rpie(rdict, exp):\n",
    "    l,v =zip(*sorted((BI_NEXT100_ESTIMATED.items())))\n",
    "    print(l)\n",
    "    print(v)\n",
    "    print(len(v))\n",
    "    l,e =zip(*sorted((exp.items())))\n",
    "    print(l)\n",
    "    print(e)\n",
    "    print(len(e))\n",
    "\n",
    "    fig1, ax1 = plt.subplots()\n",
    "    ax1.pie(v, labels=l, explode=e, autopct='%1.1f%%',\n",
    "        shadow=True, startangle=90)\n",
    "    ax1.axis('equal')  # Equal aspect ratio ensures that pie is drawn as a circle.\n",
    "\n",
    "    plt.show()\n",
    "    "
   ]
  },
  {
   "cell_type": "code",
   "execution_count": 109,
   "metadata": {},
   "outputs": [
    {
     "ename": "TypeError",
     "evalue": "only integer scalar arrays can be converted to a scalar index",
     "output_type": "error",
     "traceback": [
      "\u001b[0;31m---------------------------------------------------------------------------\u001b[0m",
      "\u001b[0;31mTypeError\u001b[0m                                 Traceback (most recent call last)",
      "\u001b[0;32m<ipython-input-109-bfb4e545066d>\u001b[0m in \u001b[0;36m<module>\u001b[0;34m()\u001b[0m\n\u001b[0;32m----> 1\u001b[0;31m \u001b[0mrbudget\u001b[0m\u001b[0;34m(\u001b[0m\u001b[0mBI_NEXT100\u001b[0m\u001b[0;34m)\u001b[0m\u001b[0;34m\u001b[0m\u001b[0m\n\u001b[0m",
      "\u001b[0;32m<ipython-input-108-775aff8409c0>\u001b[0m in \u001b[0;36mrbudget\u001b[0;34m(rdict)\u001b[0m\n\u001b[1;32m      1\u001b[0m \u001b[0;32mdef\u001b[0m \u001b[0mrbudget\u001b[0m\u001b[0;34m(\u001b[0m\u001b[0mrdict\u001b[0m\u001b[0;34m)\u001b[0m\u001b[0;34m:\u001b[0m\u001b[0;34m\u001b[0m\u001b[0m\n\u001b[1;32m      2\u001b[0m     \u001b[0mv\u001b[0m \u001b[0;34m=\u001b[0m \u001b[0;34m{\u001b[0m\u001b[0mvalues\u001b[0m \u001b[0;32mfor\u001b[0m \u001b[0mvalues\u001b[0m \u001b[0;32min\u001b[0m \u001b[0mrdict\u001b[0m\u001b[0;34m.\u001b[0m\u001b[0mvalues\u001b[0m\u001b[0;34m(\u001b[0m\u001b[0;34m)\u001b[0m\u001b[0;34m}\u001b[0m\u001b[0;34m\u001b[0m\u001b[0m\n\u001b[0;32m----> 3\u001b[0;31m     \u001b[0mprint\u001b[0m\u001b[0;34m(\u001b[0m\u001b[0mv\u001b[0m\u001b[0;34m[\u001b[0m\u001b[0mis_limit\u001b[0m\u001b[0;34m(\u001b[0m\u001b[0mBI_NEXT100\u001b[0m\u001b[0;34m)\u001b[0m\u001b[0;34m]\u001b[0m \u001b[0;34m==\u001b[0m\u001b[0;36m1\u001b[0m\u001b[0;34m)\u001b[0m\u001b[0;34m\u001b[0m\u001b[0m\n\u001b[0m\u001b[1;32m      4\u001b[0m     \u001b[0;32mreturn\u001b[0m \u001b[0msum\u001b[0m\u001b[0;34m(\u001b[0m\u001b[0;34m{\u001b[0m\u001b[0mvalues\u001b[0m \u001b[0;32mfor\u001b[0m \u001b[0mvalues\u001b[0m \u001b[0;32min\u001b[0m \u001b[0mrdict\u001b[0m\u001b[0;34m.\u001b[0m\u001b[0mvalues\u001b[0m\u001b[0;34m(\u001b[0m\u001b[0;34m)\u001b[0m\u001b[0;34m}\u001b[0m\u001b[0;34m)\u001b[0m\u001b[0;34m\u001b[0m\u001b[0m\n\u001b[1;32m      5\u001b[0m \u001b[0;34m\u001b[0m\u001b[0m\n",
      "\u001b[0;31mTypeError\u001b[0m: only integer scalar arrays can be converted to a scalar index"
     ]
    }
   ],
   "source": [
    "rbudget(BI_NEXT100)"
   ]
  },
  {
   "cell_type": "code",
   "execution_count": 28,
   "metadata": {},
   "outputs": [
    {
     "data": {
      "text/plain": [
       "17.125"
      ]
     },
     "execution_count": 28,
     "metadata": {},
     "output_type": "execute_result"
    }
   ],
   "source": [
    "rbudget(BI_NEXT100_ESTIMATED)"
   ]
  },
  {
   "cell_type": "code",
   "execution_count": 29,
   "metadata": {},
   "outputs": [
    {
     "data": {
      "text/plain": [
       "11.875"
      ]
     },
     "execution_count": 29,
     "metadata": {},
     "output_type": "execute_result"
    }
   ],
   "source": [
    "rbudget(BI_NEXT100_PLUS)"
   ]
  },
  {
   "cell_type": "code",
   "execution_count": 31,
   "metadata": {},
   "outputs": [
    {
     "data": {
      "text/plain": [
       "6.5"
      ]
     },
     "execution_count": 31,
     "metadata": {},
     "output_type": "execute_result"
    }
   ],
   "source": [
    "rbudget(TL_NEXT100)"
   ]
  },
  {
   "cell_type": "code",
   "execution_count": 32,
   "metadata": {},
   "outputs": [
    {
     "data": {
      "text/plain": [
       "5.75"
      ]
     },
     "execution_count": 32,
     "metadata": {},
     "output_type": "execute_result"
    }
   ],
   "source": [
    "rbudget(TL_NEXT100_PLUS)"
   ]
  },
  {
   "cell_type": "code",
   "execution_count": 141,
   "metadata": {},
   "outputs": [
    {
     "data": {
      "text/plain": [
       "4.2"
      ]
     },
     "execution_count": 141,
     "metadata": {},
     "output_type": "execute_result"
    }
   ],
   "source": [
    "(rbudget(BI_NEXT100) + / rbudget(BI_NAUSICAA)"
   ]
  },
  {
   "cell_type": "code",
   "execution_count": 35,
   "metadata": {},
   "outputs": [
    {
     "data": {
      "text/plain": [
       "0.6294642857142857"
      ]
     },
     "execution_count": 35,
     "metadata": {},
     "output_type": "execute_result"
    }
   ],
   "source": [
    "(rbudget(BI_NEXT100_PLUS) + rbudget(TL_NEXT100_PLUS)) / (rbudget(BI_NEXT100) + rbudget(TL_NEXT100))"
   ]
  },
  {
   "cell_type": "code",
   "execution_count": 78,
   "metadata": {},
   "outputs": [],
   "source": [
    "l,v =zip(*sorted((BI_NEXT100_ESTIMATED.items())))"
   ]
  },
  {
   "cell_type": "code",
   "execution_count": 79,
   "metadata": {},
   "outputs": [
    {
     "data": {
      "text/plain": [
       "('FC',\n",
       " 'ICS',\n",
       " 'KDbs',\n",
       " 'OS',\n",
       " 'PMTs',\n",
       " 'PV',\n",
       " 'SiPMs',\n",
       " 'anode',\n",
       " 'cans',\n",
       " 'rings',\n",
       " 'windows')"
      ]
     },
     "execution_count": 79,
     "metadata": {},
     "output_type": "execute_result"
    }
   ],
   "source": [
    "l"
   ]
  },
  {
   "cell_type": "code",
   "execution_count": null,
   "metadata": {
    "collapsed": true
   },
   "outputs": [],
   "source": []
  },
  {
   "cell_type": "code",
   "execution_count": 143,
   "metadata": {},
   "outputs": [
    {
     "data": {
      "text/plain": [
       "2.975"
      ]
     },
     "execution_count": 143,
     "metadata": {},
     "output_type": "execute_result"
    }
   ],
   "source": [
    "(rbudget(BI_NEXT100) + rbudget(TL_NEXT100)) / (rbudget(BI_NAUSICAA) + rbudget(TL_NAUSICAA))"
   ]
  },
  {
   "cell_type": "code",
   "execution_count": 136,
   "metadata": {},
   "outputs": [
    {
     "data": {
      "text/plain": [
       "0.19642857142857142"
      ]
     },
     "execution_count": 136,
     "metadata": {},
     "output_type": "execute_result"
    }
   ],
   "source": [
    "BI_NEXT100_ESTIMATED = {'PV': 1.5/2,\n",
    "      'PMTs': 4.25,\n",
    "      'cans': 0.5,\n",
    "      'windows' : 1,\n",
    "      'KDbs' : 4.5,\n",
    "      'SiPMs': 0.,\n",
    "      'FC' : 4.5/2,\n",
    "      'rings' : 2.5/4,\n",
    "      'anode' : 1.5,\n",
    "      'ICS' : 7/4,\n",
    "      'OS' : 1.5}"
   ]
  },
  {
   "cell_type": "code",
   "execution_count": 98,
   "metadata": {},
   "outputs": [
    {
     "name": "stdout",
     "output_type": "stream",
     "text": [
      "('FC', 'ICS', 'KDbs', 'OS', 'PMTs', 'PV', 'SiPMs', 'anode', 'cans', 'rings', 'windows')\n",
      "(2.25, 1.75, 4.5, 1.5, 4.25, 0.75, 0.1, 1.5, 0.5, 0.625, 1)\n",
      "11\n",
      "('FC', 'ICS', 'KDbs', 'OS', 'PMTs', 'PV', 'SiPMs', 'anode', 'cans', 'rings', 'windows')\n",
      "(0, 0, 0, 0, 0.1, 0, 0, 0, 0.1, 0, 0.1)\n",
      "11\n"
     ]
    },
    {
     "data": {
      "image/png": "[encoded data removed]",
      "text/plain": [
       "<matplotlib.figure.Figure at 0x113e5b518>"
      ]
     },
     "metadata": {},
     "output_type": "display_data"
    }
   ],
   "source": [
    "rpie(BI_NEXT100_ESTIMATED, explode)"
   ]
  },
  {
   "cell_type": "code",
   "execution_count": null,
   "metadata": {
    "collapsed": true
   },
   "outputs": [],
   "source": []
  },
  {
   "cell_type": "code",
   "execution_count": 70,
   "metadata": {},
   "outputs": [
    {
     "data": {
      "text/plain": [
       "(0.75, 4.25, 0.5, 1, 4.5, 0.0, 2.25, 0.625, 1.5, 1.75, 1.5)"
      ]
     },
     "execution_count": 70,
     "metadata": {},
     "output_type": "execute_result"
    }
   ],
   "source": [
    "v"
   ]
  },
  {
   "cell_type": "code",
   "execution_count": null,
   "metadata": {
    "collapsed": true
   },
   "outputs": [],
   "source": []
  },
  {
   "cell_type": "code",
   "execution_count": 50,
   "metadata": {},
   "outputs": [
    {
     "ename": "ValueError",
     "evalue": "not enough values to unpack (expected 2, got 1)",
     "output_type": "error",
     "traceback": [
      "\u001b[0;31m---------------------------------------------------------------------------\u001b[0m",
      "\u001b[0;31mValueError\u001b[0m                                Traceback (most recent call last)",
      "\u001b[0;32m<ipython-input-50-0c479789ef83>\u001b[0m in \u001b[0;36m<module>\u001b[0;34m()\u001b[0m\n\u001b[0;32m----> 1\u001b[0;31m \u001b[0mx\u001b[0m\u001b[0;34m,\u001b[0m \u001b[0my\u001b[0m \u001b[0;34m=\u001b[0m \u001b[0mzip\u001b[0m\u001b[0;34m(\u001b[0m\u001b[0;34m*\u001b[0m\u001b[0mzip\u001b[0m\u001b[0;34m(\u001b[0m\u001b[0mlist\u001b[0m\u001b[0;34m(\u001b[0m\u001b[0mBI_NEXT100_ESTIMATED\u001b[0m\u001b[0;34m.\u001b[0m\u001b[0mitems\u001b[0m\u001b[0;34m(\u001b[0m\u001b[0;34m)\u001b[0m\u001b[0;34m)\u001b[0m\u001b[0;34m)\u001b[0m\u001b[0;34m)\u001b[0m\u001b[0;34m\u001b[0m\u001b[0m\n\u001b[0m",
      "\u001b[0;31mValueError\u001b[0m: not enough values to unpack (expected 2, got 1)"
     ]
    }
   ],
   "source": [
    "x, y = zip(*zip(list(BI_NEXT100_ESTIMATED.items())))"
   ]
  },
  {
   "cell_type": "code",
   "execution_count": 36,
   "metadata": {
    "collapsed": true
   },
   "outputs": [],
   "source": [
    "labels, sizes = list(BI_NEXT100_ESTIMATED.keys())\n",
    "sizes ="
   ]
  },
  {
   "cell_type": "code",
   "execution_count": 38,
   "metadata": {},
   "outputs": [
    {
     "data": {
      "text/plain": [
       "['PV',\n",
       " 'PMTs',\n",
       " 'cans',\n",
       " 'windows',\n",
       " 'KDbs',\n",
       " 'SiPMs',\n",
       " 'FC',\n",
       " 'rings',\n",
       " 'anode',\n",
       " 'ICS',\n",
       " 'OS']"
      ]
     },
     "execution_count": 38,
     "metadata": {},
     "output_type": "execute_result"
    }
   ],
   "source": [
    "labels"
   ]
  },
  {
   "cell_type": "code",
   "execution_count": null,
   "metadata": {
    "collapsed": true
   },
   "outputs": [],
   "source": []
  },
  {
   "cell_type": "code",
   "execution_count": 154,
   "metadata": {},
   "outputs": [
    {
     "data": {
      "image/png": "[encoded data removed]",
      "text/plain": [
       "<matplotlib.figure.Figure at 0x112e59828>"
      ]
     },
     "metadata": {},
     "output_type": "display_data"
    }
   ],
   "source": [
    "\n",
    " \n",
    "#objects = ('Python', 'C++', 'Java', 'Perl', 'Scala', 'Lisp')\n",
    "objects = 'Vessel', 'SiPM', 'KDB', 'FC', 'Anode', 'rings', 'ICS'\n",
    "y_pos = np.arange(len(objects))\n",
    "#performance = [10,8,6,4,2,1]\n",
    "performance = 2*np.array([1.5, 1, 2, 2, 0.5, 0.5, 2])\n",
    " \n",
    "plt.bar(y_pos, performance, align='center', alpha=0.5)\n",
    "plt.xticks(y_pos, objects)\n",
    "plt.ylabel('Background rate ($10^{–5}$ counts ~keV$^{–1}$ kg$^{–1}$ yr$^{–1}$)')\n",
    "plt.title('Improved NEXT-100 radioactive budget')\n",
    " \n",
    "plt.show()"
   ]
  },
  {
   "cell_type": "code",
   "execution_count": 155,
   "metadata": {},
   "outputs": [
    {
     "data": {
      "text/plain": [
       "5"
      ]
     },
     "execution_count": 155,
     "metadata": {},
     "output_type": "execute_result"
    }
   ],
   "source": [
    "np.sum(5)"
   ]
  },
  {
   "cell_type": "code",
   "execution_count": null,
   "metadata": {
    "collapsed": true
   },
   "outputs": [],
   "source": []
  }
 ],
 "metadata": {
  "kernelspec": {
   "display_name": "Python 3",
   "language": "python",
   "name": "python3"
  },
  "language_info": {
   "codemirror_mode": {
    "name": "ipython",
    "version": 3
   },
   "file_extension": ".py",
   "mimetype": "text/x-python",
   "name": "python",
   "nbconvert_exporter": "python",
   "pygments_lexer": "ipython3",
   "version": "3.6.2"
  }
 },
 "nbformat": 4,
 "nbformat_minor": 2
}
