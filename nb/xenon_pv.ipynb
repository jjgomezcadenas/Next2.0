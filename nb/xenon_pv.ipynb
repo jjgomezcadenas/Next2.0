{
 "cells": [
  {
   "cell_type": "markdown",
   "metadata": {},
   "source": [
    "## Computes PV curves using xenon equation of state"
   ]
  },
  {
   "cell_type": "markdown",
   "metadata": {},
   "source": [
    "https://www.nist.gov/sites/default/files/documents/srd/jpcrd470.pdf"
   ]
  },
  {
   "cell_type": "code",
   "execution_count": 1,
   "metadata": {},
   "outputs": [
    {
     "name": "stdout",
     "output_type": "stream",
     "text": [
      "2017-11-26 17:46:31\n"
     ]
    }
   ],
   "source": [
    "import os\n",
    "import datetime\n",
    "print(datetime.datetime.now().strftime('%Y-%m-%d %H:%M:%S'))\n",
    "\n",
    "import time\n",
    "import glob\n",
    "import tables as tb\n",
    "import numpy as np\n",
    "import pandas as pd\n",
    "import matplotlib.pyplot as plt\n",
    "from functools import reduce\n",
    "%matplotlib inline\n",
    "%load_ext autoreload\n",
    "%autoreload 2\n",
    "\n",
    "plt.rcParams[\"figure.figsize\"] = 10, 8\n",
    "plt.rcParams[\"font.size\"     ] = 14"
   ]
  },
  {
   "cell_type": "code",
   "execution_count": 2,
   "metadata": {
    "collapsed": true
   },
   "outputs": [],
   "source": [
    "from pyNext.system_of_units import *"
   ]
  },
  {
   "cell_type": "code",
   "execution_count": 3,
   "metadata": {
    "collapsed": true
   },
   "outputs": [],
   "source": [
    "from math import pi, sqrt, exp, log"
   ]
  },
  {
   "cell_type": "code",
   "execution_count": 4,
   "metadata": {
    "collapsed": true
   },
   "outputs": [],
   "source": [
    "from IPython.display import Image"
   ]
  },
  {
   "cell_type": "code",
   "execution_count": 27,
   "metadata": {},
   "outputs": [],
   "source": [
    "from Next2.src.XenonES import XenonES"
   ]
  },
  {
   "cell_type": "code",
   "execution_count": 63,
   "metadata": {
    "collapsed": true
   },
   "outputs": [],
   "source": [
    "from Next2.src.XenonES import XeHe"
   ]
  },
  {
   "cell_type": "markdown",
   "metadata": {
    "collapsed": true
   },
   "source": [
    "#### Constants"
   ]
  },
  {
   "cell_type": "code",
   "execution_count": 6,
   "metadata": {
    "collapsed": true
   },
   "outputs": [],
   "source": [
    "M = 131.29 # g/mol\n",
    "MXe = 131.29 # g/mol\n",
    "MHe = 4 # g/mol\n",
    "RM = 8.31441 # J/(K * mol) \n",
    "R = (RM / M) * J/(K * gram) \n",
    "RXe = (RM / MXe) * J/(K * gram)\n",
    "RHe = (RM / MHe) * J/(K * gram)\n",
    "k = 1.38064852 * 1E-23 * J/K \n",
    "N_A = 6.02214129E+23 * (1./mol)\n",
    "T0 = 273.15 # 0 in K\n",
    "rho_2020 = 124.3 * kg/m3\n",
    "rho_3020 = 203.35 * kg/m3\n",
    "rho_1520 = 89.9 * kg/m3\n",
    "rho_1020 = 58 * kg/m3"
   ]
  },
  {
   "cell_type": "markdown",
   "metadata": {},
   "source": [
    "Reference values\n",
    "\n",
    "T = 273.15 \n",
    "\n",
    "P = 0.101 MPa\n",
    "\n",
    "rho = 5.9 kg/m3"
   ]
  },
  {
   "cell_type": "code",
   "execution_count": 28,
   "metadata": {},
   "outputs": [],
   "source": [
    "xe = XenonES()"
   ]
  },
  {
   "cell_type": "code",
   "execution_count": 24,
   "metadata": {},
   "outputs": [
    {
     "data": {
      "text/plain": [
       "< F = [[  0.4817629  -0.2299682   0.6767809  -0.8268785   0.5968467  -0.2604627\n",
       "    0.0682496  -0.0098938   0.0006094]\n",
       " [ -1.1781069   0.6114582  -1.5912708   2.1881695  -1.6641625   0.7415745\n",
       "   -0.1922343   0.0268815  -0.0015646]\n",
       " [ -0.2405126  -0.3576334   1.3854592  -2.2662842   1.8913227  -0.8963672\n",
       "    0.2442594  -0.0356831   0.002167 ]\n",
       " [ -0.075091   -0.0394642  -0.0376039   0.4042447  -0.4626225   0.2408146\n",
       "   -0.0668988   0.0096759  -0.0005751]\n",
       " [ -0.2138266   0.853137   -1.7742259   2.1185698  -1.5387476   0.6937379\n",
       "   -0.1901539   0.0290867  -0.0019079]\n",
       " [ -0.0070107   0.0392624  -0.1109568   0.1757965  -0.1581353   0.0752434\n",
       "   -0.0146754   0.          0.       ]\n",
       " [ -3.5656012   8.7365761 -11.8350251   9.567971   -4.6146467   1.2291777\n",
       "   -0.1394816   0.          0.       ]]\n",
       " rho = [ 0.     2.97   0.405  2.325  1.113  0.611  1.485  1.101]\n",
       " Q = [  -1.      0.      1.      3.     21.     24.83  250.     21.  ]\n",
       " E = [ 1.5    1.94   1.46   1.02   0.98   1.173  0.     0.   ]>"
      ]
     },
     "execution_count": 24,
     "metadata": {},
     "output_type": "execute_result"
    }
   ],
   "source": [
    "xe"
   ]
  },
  {
   "cell_type": "markdown",
   "metadata": {},
   "source": [
    "#### rho = 5.9 kg/m3 is the density at which P = 1 atm and T = 0 C"
   ]
  },
  {
   "cell_type": "code",
   "execution_count": 9,
   "metadata": {},
   "outputs": [
    {
     "data": {
      "text/plain": [
       "1.0067137016900958"
      ]
     },
     "execution_count": 9,
     "metadata": {},
     "output_type": "execute_result"
    }
   ],
   "source": [
    "xe.P(T=0, RHO=5.9 * kg/m3, perfect=True) / atmosphere "
   ]
  },
  {
   "cell_type": "code",
   "execution_count": 29,
   "metadata": {},
   "outputs": [
    {
     "data": {
      "text/plain": [
       "0.99998023803802516"
      ]
     },
     "execution_count": 29,
     "metadata": {},
     "output_type": "execute_result"
    }
   ],
   "source": [
    "xe.P(T=0, RHO=5.9 * kg/m3, perfect=False) / atmosphere "
   ]
  },
  {
   "cell_type": "code",
   "execution_count": 11,
   "metadata": {},
   "outputs": [
    {
     "data": {
      "text/plain": [
       "0.99998023803802516"
      ]
     },
     "execution_count": 11,
     "metadata": {},
     "output_type": "execute_result"
    }
   ],
   "source": [
    "xe.P(T=T0, RHO=5.9 * kg/m3, temp='K') / atmosphere "
   ]
  },
  {
   "cell_type": "code",
   "execution_count": 12,
   "metadata": {},
   "outputs": [
    {
     "data": {
      "text/plain": [
       "0.1013229976192029"
      ]
     },
     "execution_count": 12,
     "metadata": {},
     "output_type": "execute_result"
    }
   ],
   "source": [
    "xe.P(T=T0, RHO=5.9 * kg/m3, temp='K') / MPa"
   ]
  },
  {
   "cell_type": "markdown",
   "metadata": {
    "collapsed": true
   },
   "source": [
    "#### several values of density"
   ]
  },
  {
   "cell_type": "code",
   "execution_count": 21,
   "metadata": {},
   "outputs": [
    {
     "name": "stdout",
     "output_type": "stream",
     "text": [
      " rho = 124.3 kg/m3 is the density at which P = 20.000835458233347 atm (P_perfect = 21.20923951187778 atm) and T = 20C\n"
     ]
    }
   ],
   "source": [
    "print(' rho = {} kg/m3 is the density at which P = {} atm (P_perfect = {} atm) and T = 20C'.format(\n",
    "rho_2020 /(kg/m3), xe.P(20, rho_2020, perfect=False) / atmosphere, xe.P(0, rho_2020, perfect=True) / atmosphere) )"
   ]
  },
  {
   "cell_type": "code",
   "execution_count": 32,
   "metadata": {},
   "outputs": [
    {
     "name": "stdout",
     "output_type": "stream",
     "text": [
      " rho = 124.3 kg/m3 is the density at which P = 19.916977217659895 atm (P_perfect = 21.20923951187778 atm) and T = 20C\n"
     ]
    }
   ],
   "source": [
    "print(' rho = {} kg/m3 is the density at which P = {} atm (P_perfect = {} atm) and T = 20C'.format(\n",
    "rho_2020 /(kg/m3), xe.P2(20, rho_2020, perfect=False) / atmosphere, xe.P(0, rho_2020, perfect=True) / atmosphere) )"
   ]
  },
  {
   "cell_type": "code",
   "execution_count": 22,
   "metadata": {},
   "outputs": [
    {
     "name": "stdout",
     "output_type": "stream",
     "text": [
      " rho = 203.35000000000002 kg/m3 is the density at which P = 30.001431314531406 atm (P_perfect = 34.697496820115425 atm) and T = 20C\n"
     ]
    }
   ],
   "source": [
    "print(' rho = {} kg/m3 is the density at which P = {} atm (P_perfect = {} atm) and T = 20C'.format(\n",
    "rho_3020 /(kg/m3), xe.P(20, rho_3020, perfect=False) / atmosphere, xe.P(0, rho_3020, perfect=True) / atmosphere) )"
   ]
  },
  {
   "cell_type": "code",
   "execution_count": 33,
   "metadata": {},
   "outputs": [
    {
     "name": "stdout",
     "output_type": "stream",
     "text": [
      " rho = 203.35000000000002 kg/m3 is the density at which P = 29.623236561326625 atm (P_perfect = 34.697496820115425 atm) and T = 20C\n"
     ]
    }
   ],
   "source": [
    "print(' rho = {} kg/m3 is the density at which P = {} atm (P_perfect = {} atm) and T = 20C'.format(\n",
    "rho_3020 /(kg/m3), xe.P2(20, rho_3020, perfect=False) / atmosphere, xe.P(0, rho_3020, perfect=True) / atmosphere) )"
   ]
  },
  {
   "cell_type": "code",
   "execution_count": 23,
   "metadata": {},
   "outputs": [
    {
     "name": "stdout",
     "output_type": "stream",
     "text": [
      " rho = 89.9 kg/m2 is the density at which P = 15.008867466277954 atm (P_perfect = 15.339586742701629 atm) and T = 20C\n"
     ]
    }
   ],
   "source": [
    "print(' rho = {} kg/m2 is the density at which P = {} atm (P_perfect = {} atm) and T = 20C'.format(\n",
    "rho_1520 /(kg/m3), xe.P(20, rho_1520, perfect=False) / atmosphere, xe.P(0, rho_1520, perfect=True)/ atmosphere) )"
   ]
  },
  {
   "cell_type": "code",
   "execution_count": 34,
   "metadata": {},
   "outputs": [
    {
     "name": "stdout",
     "output_type": "stream",
     "text": [
      " rho = 89.9 kg/m2 is the density at which P = 14.974451048976752 atm (P_perfect = 15.339586742701629 atm) and T = 20C\n"
     ]
    }
   ],
   "source": [
    "print(' rho = {} kg/m2 is the density at which P = {} atm (P_perfect = {} atm) and T = 20C'.format(\n",
    "rho_1520 /(kg/m3), xe.P2(20, rho_1520, perfect=False) / atmosphere, xe.P(0, rho_1520, perfect=True)/ atmosphere) )"
   ]
  },
  {
   "cell_type": "code",
   "execution_count": 24,
   "metadata": {},
   "outputs": [
    {
     "name": "stdout",
     "output_type": "stream",
     "text": [
      " rho = 58.00000000000001 kg/m2 is the density at which P = 10.013384007037484 atm (P_perfect = 9.896507575936536 atm) and T = 20C\n"
     ]
    }
   ],
   "source": [
    "print(' rho = {} kg/m2 is the density at which P = {} atm (P_perfect = {} atm) and T = 20C'.format(\n",
    "rho_1020 /(kg/m3), xe.P(20, rho_1020, perfect=False) / atmosphere, xe.P(0, rho_1020, perfect=True)/ atmosphere) )"
   ]
  },
  {
   "cell_type": "code",
   "execution_count": 36,
   "metadata": {},
   "outputs": [
    {
     "name": "stdout",
     "output_type": "stream",
     "text": [
      " rho = 58.00000000000001 kg/m2 is the density at which P = 10.001649501368897 atm (P_perfect = 9.896507575936536 atm) and T = 20C\n"
     ]
    }
   ],
   "source": [
    "print(' rho = {} kg/m2 is the density at which P = {} atm (P_perfect = {} atm) and T = 20C'.format(\n",
    "rho_1020 /(kg/m3), xe.P2(20, rho_1020, perfect=False) / atmosphere, xe.P(0, rho_1020, perfect=True)/ atmosphere) )"
   ]
  },
  {
   "cell_type": "markdown",
   "metadata": {},
   "source": [
    "### Equation of gases at various densities"
   ]
  },
  {
   "cell_type": "code",
   "execution_count": 25,
   "metadata": {
    "collapsed": true
   },
   "outputs": [],
   "source": [
    "T = np.arange(-100, 25, 0.5)"
   ]
  },
  {
   "cell_type": "code",
   "execution_count": 26,
   "metadata": {},
   "outputs": [],
   "source": [
    "P10 = np.array([xe.P(t, rho_1020, perfect=False) for t in T]) / atmosphere\n",
    "P20 = np.array([xe.P(t, rho_2020, perfect=False) for t in T]) / atmosphere\n",
    "P30 = np.array([xe.P(t, rho_3020, perfect=False) for t in T]) / atmosphere"
   ]
  },
  {
   "cell_type": "code",
   "execution_count": 27,
   "metadata": {},
   "outputs": [
    {
     "data": {
      "image/png": "[encoded data removed]",
      "text/plain": [
       "<matplotlib.figure.Figure at 0x11583d240>"
      ]
     },
     "metadata": {},
     "output_type": "display_data"
    }
   ],
   "source": [
    "plt.plot(T,P10,'b')\n",
    "plt.plot(T,P20,'r--')\n",
    "plt.plot(T,P30,'g-.')\n",
    "plt.grid(True)\n",
    "plt.xlabel('T (Celsius)')\n",
    "plt.ylabel('P (bar)')\n",
    "plt.text(-10, 30, r'$\\rho={0:5.3f} \\, g/cm^3$'.format(rho_3020/ (g/cm3)))\n",
    "plt.text(-10, 20, r'$\\rho={0:5.3f} \\, g/cm^3$'.format(rho_2020/ (g/cm3)))\n",
    "plt.text(-10, 10, r'$\\rho={0:5.3f} \\, g/cm^3$'.format(rho_1020/ (g/cm3)))\n",
    "plt.show()"
   ]
  },
  {
   "cell_type": "code",
   "execution_count": 28,
   "metadata": {
    "collapsed": true
   },
   "outputs": [],
   "source": [
    "P30P = np.array([xe.P(t, rho_3020, perfect=True) for t in T]) / atmosphere"
   ]
  },
  {
   "cell_type": "code",
   "execution_count": 29,
   "metadata": {},
   "outputs": [
    {
     "data": {
      "image/png": "[encoded data removed]",
      "text/plain": [
       "<matplotlib.figure.Figure at 0x118db09e8>"
      ]
     },
     "metadata": {},
     "output_type": "display_data"
    }
   ],
   "source": [
    "plt.plot(T,P30P,'b')\n",
    "plt.plot(T,P30,'r--')\n",
    "plt.grid(True)\n",
    "plt.xlabel('T (Celsius)')\n",
    "plt.ylabel('P (bar)')\n",
    "plt.text(-100, 35, r'$\\rho={0:5.3f} \\, g/cm^3$'.format(rho_3020/ (g/cm3)))\n",
    "plt.text(-20, 35, r'perfect gas')\n",
    "plt.text(-20, 30, r'Xe equation of state')\n",
    "#plt.text(-100, 35, r'https://www.nist.gov/sites/default/files/documents/srd/jpcrd470.pdf')\n",
    "plt.show()"
   ]
  },
  {
   "cell_type": "code",
   "execution_count": 31,
   "metadata": {
    "collapsed": true
   },
   "outputs": [],
   "source": [
    "Tc = 198.15 #-75 C"
   ]
  },
  {
   "cell_type": "markdown",
   "metadata": {
    "collapsed": true
   },
   "source": [
    "### Second virial coefficient"
   ]
  },
  {
   "cell_type": "code",
   "execution_count": 14,
   "metadata": {},
   "outputs": [
    {
     "name": "stdout",
     "output_type": "stream",
     "text": [
      "Tc/ek = 0.7231751824817518\n"
     ]
    }
   ],
   "source": [
    "\n",
    "# xenon\n",
    "sigma = 0.3885 * nm\n",
    "ek    = 274 * K # epsilon/k\n",
    "\n",
    "Tc = 198.15 #-75 C\n",
    "print('Tc/ek = {}'.format(Tc/ek))\n",
    "Ls    = 0.06    # Lambda* \n",
    "Ls2   = Ls*Ls    # (Lambda*)^2 \n",
    "Ls3   = Ls2*Ls    # (Lambda*)^3\n",
    "Ls4   = Ls2*Ls2    # (Lambda*)^4\n",
    "Ls6   = Ls4*Ls2    # (Lambda*)^4\n",
    "\n",
    "uB = 1E-3 * meter3/kmol"
   ]
  },
  {
   "cell_type": "markdown",
   "metadata": {},
   "source": [
    "### Check that equation of State and 2nd Virial yield same result"
   ]
  },
  {
   "cell_type": "code",
   "execution_count": 37,
   "metadata": {
    "collapsed": true
   },
   "outputs": [],
   "source": [
    "T = np.arange(-100, 25, 0.5)\n",
    "PF = np.array([xe.P(t, rho_2020, perfect=False) for t in T]) / atmosphere\n",
    "PT = np.array([xe.P(t, rho_2020, perfect=True) for t in T]) / atmosphere\n",
    "PF2 = np.array([xe.P2(t, rho_2020, perfect=False) for t in T]) / atmosphere\n",
    "PT2 = np.array([xe.P2(t, rho_2020, perfect=True) for t in T]) / atmosphere"
   ]
  },
  {
   "cell_type": "code",
   "execution_count": 38,
   "metadata": {},
   "outputs": [
    {
     "data": {
      "image/png": "[encoded data removed]",
      "text/plain": [
       "<matplotlib.figure.Figure at 0x110633780>"
      ]
     },
     "metadata": {},
     "output_type": "display_data"
    }
   ],
   "source": [
    "plt.plot(T,PF,'b')\n",
    "plt.plot(T,PF2,'k--')\n",
    "plt.plot(T,PT,'r')\n",
    "plt.plot(T,PT2,'r--')\n",
    "plt.grid(True)\n",
    "plt.xlabel('T (Celsius)')\n",
    "plt.ylabel('P (bar)')\n",
    "plt.show()"
   ]
  },
  {
   "cell_type": "markdown",
   "metadata": {},
   "source": [
    "### Xenon Helium mixtures"
   ]
  },
  {
   "cell_type": "code",
   "execution_count": 84,
   "metadata": {},
   "outputs": [],
   "source": [
    "xehe = XeHe(m=100 * kg, V=(105/2)**2 * 130 * pi * cm3, tc=20, xHe=0.5, xXe=0.5)"
   ]
  },
  {
   "cell_type": "code",
   "execution_count": 85,
   "metadata": {},
   "outputs": [
    {
     "name": "stdout",
     "output_type": "stream",
     "text": [
      "\n",
      "            m    (XHe = 1)    = 100.0 kg\n",
      "            V                 = 1.1256719176893928 m3\n",
      "            n0Xe (XHe = 1)    = 761.6726331022926 mol\n",
      "            rho  (XHe = 1)    = 0.08883583078563842 g/cm3\n",
      "            P0   (XHe = 1)    = 16.276508246975602 atm\n",
      "            nXe  (XHe = 380.8363165511463)   = 0.5 mol\n",
      "            nHe  (XHe = 380.8363165511463)   = 0.5 mol\n",
      "            PXe               = 8.138254123487801 atm\n",
      "            PHe               = 8.138254123487801 atm\n",
      "            P                 = 16.276508246975602 atm\n",
      "            \n"
     ]
    }
   ],
   "source": [
    "print(xehe)"
   ]
  },
  {
   "cell_type": "code",
   "execution_count": 86,
   "metadata": {},
   "outputs": [
    {
     "data": {
      "text/plain": [
       "5.084500230997069"
      ]
     },
     "execution_count": 86,
     "metadata": {},
     "output_type": "execute_result"
    }
   ],
   "source": [
    "xehe.pXe(tc=-90) /atmosphere"
   ]
  },
  {
   "cell_type": "code",
   "execution_count": 87,
   "metadata": {},
   "outputs": [
    {
     "data": {
      "text/plain": [
       "5.084500230997069"
      ]
     },
     "execution_count": 87,
     "metadata": {},
     "output_type": "execute_result"
    }
   ],
   "source": [
    "xehe.pHe(tc=-90) /atmosphere"
   ]
  },
  {
   "cell_type": "code",
   "execution_count": 88,
   "metadata": {},
   "outputs": [
    {
     "data": {
      "text/plain": [
       "10.169000461994138"
      ]
     },
     "execution_count": 88,
     "metadata": {},
     "output_type": "execute_result"
    }
   ],
   "source": [
    "xehe.p(tc=-90) /atmosphere"
   ]
  },
  {
   "cell_type": "code",
   "execution_count": 89,
   "metadata": {},
   "outputs": [
    {
     "data": {
      "text/plain": [
       "4.945958669606906"
      ]
     },
     "execution_count": 89,
     "metadata": {},
     "output_type": "execute_result"
    }
   ],
   "source": [
    "xehe.pBXe(tc=-90) /atmosphere"
   ]
  },
  {
   "cell_type": "code",
   "execution_count": 90,
   "metadata": {},
   "outputs": [
    {
     "data": {
      "text/plain": [
       "4.945958669606906"
      ]
     },
     "execution_count": 90,
     "metadata": {},
     "output_type": "execute_result"
    }
   ],
   "source": [
    "xehe.pBHe(tc=-90) /atmosphere"
   ]
  },
  {
   "cell_type": "code",
   "execution_count": 91,
   "metadata": {},
   "outputs": [
    {
     "data": {
      "text/plain": [
       "9.891917339213812"
      ]
     },
     "execution_count": 91,
     "metadata": {},
     "output_type": "execute_result"
    }
   ],
   "source": [
    "xehe.pB(tc=-90) /atmosphere"
   ]
  },
  {
   "cell_type": "code",
   "execution_count": 92,
   "metadata": {
    "collapsed": true
   },
   "outputs": [],
   "source": [
    "xe = XeHe(m=100 * kg, V=(105/2)**2 * 130 * pi * cm3, tc=20, xHe=0., xXe=1.0)\n",
    "he = XeHe(m=100 * kg, V=(105/2)**2 * 130 * pi * cm3, tc=20, xHe=1., xXe=0.0)\n",
    "xehe_8515 = XeHe(m=100 * kg, V=(105/2)**2 * 130 * pi * cm3, tc=20, xHe=0.15, xXe=0.85)"
   ]
  },
  {
   "cell_type": "code",
   "execution_count": 93,
   "metadata": {},
   "outputs": [
    {
     "name": "stdout",
     "output_type": "stream",
     "text": [
      "\n",
      "            m    (XHe = 1)    = 100.0 kg\n",
      "            V                 = 1.1256719176893928 m3\n",
      "            n0Xe (XHe = 1)    = 761.6726331022926 mol\n",
      "            rho  (XHe = 1)    = 0.08883583078563842 g/cm3\n",
      "            P0   (XHe = 1)    = 16.276508246975602 atm\n",
      "            nXe  (XHe = 761.6726331022926)   = 1.0 mol\n",
      "            nHe  (XHe = 0.0)   = 0.0 mol\n",
      "            PXe               = 16.276508246975602 atm\n",
      "            PHe               = 0.0 atm\n",
      "            P                 = 16.276508246975602 atm\n",
      "            \n"
     ]
    }
   ],
   "source": [
    "print(xe)"
   ]
  },
  {
   "cell_type": "code",
   "execution_count": 94,
   "metadata": {},
   "outputs": [
    {
     "name": "stdout",
     "output_type": "stream",
     "text": [
      "\n",
      "            m    (XHe = 1)    = 100.0 kg\n",
      "            V                 = 1.1256719176893928 m3\n",
      "            n0Xe (XHe = 1)    = 761.6726331022926 mol\n",
      "            rho  (XHe = 1)    = 0.08883583078563842 g/cm3\n",
      "            P0   (XHe = 1)    = 16.276508246975602 atm\n",
      "            nXe  (XHe = 0.0)   = 0.0 mol\n",
      "            nHe  (XHe = 761.6726331022926)   = 1.0 mol\n",
      "            PXe               = 0.0 atm\n",
      "            PHe               = 16.276508246975602 atm\n",
      "            P                 = 16.276508246975602 atm\n",
      "            \n"
     ]
    }
   ],
   "source": [
    "print(he)"
   ]
  },
  {
   "cell_type": "code",
   "execution_count": 95,
   "metadata": {},
   "outputs": [
    {
     "name": "stdout",
     "output_type": "stream",
     "text": [
      "\n",
      "            m    (XHe = 1)    = 100.0 kg\n",
      "            V                 = 1.1256719176893928 m3\n",
      "            n0Xe (XHe = 1)    = 761.6726331022926 mol\n",
      "            rho  (XHe = 1)    = 0.08883583078563842 g/cm3\n",
      "            P0   (XHe = 1)    = 16.276508246975602 atm\n",
      "            nXe  (XHe = 647.4217381369486)   = 0.85 mol\n",
      "            nHe  (XHe = 114.25089496534389)   = 0.15 mol\n",
      "            PXe               = 13.83503200992926 atm\n",
      "            PHe               = 2.4414762370463405 atm\n",
      "            P                 = 16.276508246975602 atm\n",
      "            \n"
     ]
    }
   ],
   "source": [
    "print(xehe_8515)"
   ]
  },
  {
   "cell_type": "code",
   "execution_count": 96,
   "metadata": {},
   "outputs": [
    {
     "data": {
      "text/plain": [
       "2.25"
      ]
     },
     "execution_count": 96,
     "metadata": {},
     "output_type": "execute_result"
    }
   ],
   "source": [
    "15*0.15"
   ]
  },
  {
   "cell_type": "code",
   "execution_count": 97,
   "metadata": {},
   "outputs": [
    {
     "data": {
      "text/plain": [
       "16.276508246975602"
      ]
     },
     "execution_count": 97,
     "metadata": {},
     "output_type": "execute_result"
    }
   ],
   "source": [
    "xehe_8515.p(20) / atmosphere"
   ]
  },
  {
   "cell_type": "code",
   "execution_count": 98,
   "metadata": {},
   "outputs": [
    {
     "data": {
      "text/plain": [
       "15.480065095512593"
      ]
     },
     "execution_count": 98,
     "metadata": {},
     "output_type": "execute_result"
    }
   ],
   "source": [
    "xehe_8515.pB(20) / atmosphere"
   ]
  },
  {
   "cell_type": "code",
   "execution_count": null,
   "metadata": {
    "collapsed": true
   },
   "outputs": [],
   "source": []
  },
  {
   "cell_type": "code",
   "execution_count": 99,
   "metadata": {},
   "outputs": [
    {
     "data": {
      "text/plain": [
       "14.05559632516416"
      ]
     },
     "execution_count": 99,
     "metadata": {},
     "output_type": "execute_result"
    }
   ],
   "source": [
    "xehe_8515.p(-20) / atmosphere"
   ]
  },
  {
   "cell_type": "code",
   "execution_count": 100,
   "metadata": {},
   "outputs": [
    {
     "data": {
      "text/plain": [
       "13.148500132124799"
      ]
     },
     "execution_count": 100,
     "metadata": {},
     "output_type": "execute_result"
    }
   ],
   "source": [
    "xehe_8515.pB(-20) / atmosphere"
   ]
  },
  {
   "cell_type": "code",
   "execution_count": 101,
   "metadata": {
    "collapsed": true
   },
   "outputs": [],
   "source": [
    "T = np.arange(-100, 25, 0.5)\n",
    "PF  = np.array([xe.pB(tc=t) / atmosphere for t in T])\n",
    "PP  = np.array([xe.p(tc=t) / atmosphere for t in T])\n",
    "PF2  = np.array([xehe_8515.pB(tc=t) / atmosphere for t in T])\n",
    "PP2  = np.array([xehe_8515.p(tc=t) / atmosphere for t in T])"
   ]
  },
  {
   "cell_type": "code",
   "execution_count": 102,
   "metadata": {},
   "outputs": [
    {
     "data": {
      "image/png": "[encoded data removed]",
      "text/plain": [
       "<matplotlib.figure.Figure at 0x113be0c88>"
      ]
     },
     "metadata": {},
     "output_type": "display_data"
    }
   ],
   "source": [
    "plt.plot(T,PF,'r')\n",
    "#plt.plot(T,PP,'r--')\n",
    "plt.plot(T,PF2,'b')\n",
    "#plt.plot(T,PP2,'b--')\n",
    "plt.grid(True)\n",
    "plt.xlabel('T (Celsius)')\n",
    "plt.ylabel('P (bar)')\n",
    "#plt.text(-40, 14,'Xe')\n",
    "#plt.text(-25, 20,'He')\n",
    "#plt.text(-40, 17,'0.15 * He + 0.85 * Xe')\n",
    "plt.show()"
   ]
  },
  {
   "cell_type": "code",
   "execution_count": null,
   "metadata": {
    "collapsed": true
   },
   "outputs": [],
   "source": [
    "Image(filename='./Bolotnikov.png')"
   ]
  },
  {
   "cell_type": "code",
   "execution_count": null,
   "metadata": {
    "collapsed": true
   },
   "outputs": [],
   "source": []
  }
 ],
 "metadata": {
  "kernelspec": {
   "display_name": "Python 3",
   "language": "python",
   "name": "python3"
  },
  "language_info": {
   "codemirror_mode": {
    "name": "ipython",
    "version": 3
   },
   "file_extension": ".py",
   "mimetype": "text/x-python",
   "name": "python",
   "nbconvert_exporter": "python",
   "pygments_lexer": "ipython3",
   "version": "3.6.2"
  }
 },
 "nbformat": 4,
 "nbformat_minor": 2
}
